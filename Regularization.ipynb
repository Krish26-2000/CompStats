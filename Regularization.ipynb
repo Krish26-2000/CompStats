{
 "cells": [
  {
   "cell_type": "code",
   "execution_count": null,
   "metadata": {},
   "outputs": [],
   "source": [
    "# Linear Model Regularization\n",
    "\n",
    "Consider the linear regression model\n",
    "\n",
    "\\begin{equation}\n",
    "y_i=\\x_i'\\beta+\\epsilon_i\n",
    "\\end{equation}\n",
    "where $\\x_i=(x_{i1}, ..., x_{ip})$ with $p$ being the number of regressors.\n",
    " Recall the loss function of the OLS-estimator \n",
    " \n",
    " \\begin{equation}\n",
    " \\mathsymbol{\\beta}_{OLS}=\\underset{\\beta}{argmin}\\sum_{i=1}^n (y_i-\\x_i'\\beta)^2 \n",
    " \\end{equation}\n",
    "\n",
    "\n",
    "\n",
    "is an unconstrained maximization problem. Adding additional covariates to the model has little/no costs even if they are (mostly) uninformative. Additionally, adding groups of highly correlated covariates (mostly a problem when $p$ is large), leads to spuriously insignificant results. \n"
   ]
  }
 ],
 "metadata": {
  "kernelspec": {
   "display_name": "R",
   "language": "R",
   "name": "ir"
  },
  "language_info": {
   "codemirror_mode": "r",
   "file_extension": ".r",
   "mimetype": "text/x-r-source",
   "name": "R",
   "pygments_lexer": "r",
   "version": "3.6.1"
  }
 },
 "nbformat": 4,
 "nbformat_minor": 4
}
